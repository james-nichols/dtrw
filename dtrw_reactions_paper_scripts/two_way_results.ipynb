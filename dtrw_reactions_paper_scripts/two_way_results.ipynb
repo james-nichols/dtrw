{
 "metadata": {
  "name": "",
  "signature": "sha256:58384754e052cf284bdcf844e142efb023b9f59ebe7b9ec645a1ed0f97b5c652"
 },
 "nbformat": 3,
 "nbformat_minor": 0,
 "worksheets": [
  {
   "cells": [
    {
     "cell_type": "code",
     "collapsed": false,
     "input": [
      "import numpy as np\n",
      "import matplotlib.pyplot as plt"
     ],
     "language": "python",
     "metadata": {},
     "outputs": [],
     "prompt_number": 1
    },
    {
     "cell_type": "code",
     "collapsed": false,
     "input": [
      "I_sol_21 = np.loadtxt(\"Solution_alpha0p8_k1_dx2ov21_T0p1.csv\", delimiter=\",\")\n",
      "I_sol_41 = np.loadtxt(\"Solution_alpha0p8_k1_dx2ov41_T0p1.csv\", delimiter=\",\")\n",
      "I_sol_61 = np.loadtxt(\"Solution_alpha0p8_k1_dx2ov61_T0p1.csv\", delimiter=\",\")\n",
      "I_sol_81 = np.loadtxt(\"Solution_alpha0p8_k1_dx2ov81_T0p1.csv\", delimiter=\",\")"
     ],
     "language": "python",
     "metadata": {},
     "outputs": [],
     "prompt_number": 8
    },
    {
     "cell_type": "code",
     "collapsed": false,
     "input": [
      "a_21 = np.loadtxt(\"a_DTRW_dT_0.001000_dX_0.095238_alpha_0.800000.csv\", delimiter=\",\")\n",
      "b_21 = np.loadtxt(\"b_DTRW_dT_0.001000_dX_0.095238_alpha_0.800000.csv\", delimiter=\",\")\n",
      "a_41 = np.loadtxt(\"a_DTRW_dT_0.000100_dX_0.048780_alpha_0.800000.csv\", delimiter=\",\")\n",
      "b_41 = np.loadtxt(\"b_DTRW_dT_0.000100_dX_0.048780_alpha_0.800000.csv\", delimiter=\",\")\n",
      "a_61 = np.loadtxt(\"a_DTRW_dT_0.000050_dX_0.032787_alpha_0.800000.csv\", delimiter=\",\")\n",
      "b_61 = np.loadtxt(\"b_DTRW_dT_0.000050_dX_0.032787_alpha_0.800000.csv\", delimiter=\",\")\n",
      "a_81 = np.loadtxt(\"a_DTRW_dT_0.000010_dX_0.024691_alpha_0.800000.csv\", delimiter=\",\")\n",
      "b_81 = np.loadtxt(\"b_DTRW_dT_0.000010_dX_0.024691_alpha_0.800000.csv\", delimiter=\",\")"
     ],
     "language": "python",
     "metadata": {},
     "outputs": [],
     "prompt_number": 26
    },
    {
     "cell_type": "code",
     "collapsed": false,
     "input": [
      "plt.plot(I_sol_21 * np.exp(-0.1))\n",
      "plt.plot((a_21+b_21)[:,-1])\n",
      "plt.plot(I_sol_41 * np.exp(-0.1))\n",
      "plt.plot((a_41+b_41)[:,-1])\n",
      "plt.plot(I_sol_61 * np.exp(-0.1))\n",
      "plt.plot((a_61+b_61)[:,-1])\n",
      "plt.plot(I_sol_81 * np.exp(-0.1))\n",
      "plt.plot((a_81+b_81)[:,-1])\n",
      "plt.show()"
     ],
     "language": "python",
     "metadata": {},
     "outputs": [],
     "prompt_number": 27
    },
    {
     "cell_type": "code",
     "collapsed": false,
     "input": [],
     "language": "python",
     "metadata": {},
     "outputs": []
    }
   ],
   "metadata": {}
  }
 ]
}