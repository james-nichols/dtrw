{
 "metadata": {
  "name": "",
  "signature": "sha256:5074c2920958069f3df695160edfab0c8c8e8a0b1cf7e931f085467552d705c7"
 },
 "nbformat": 3,
 "nbformat_minor": 0,
 "worksheets": [
  {
   "cells": [
    {
     "cell_type": "code",
     "collapsed": false,
     "input": [
      "# Libraries are in parent directory\n",
      "import sys\n",
      "sys.path.append('../')\n",
      "\n",
      "from dtrw import *\n",
      "import numpy as np\n",
      "import matplotlib.pyplot as plt"
     ],
     "language": "python",
     "metadata": {},
     "outputs": [],
     "prompt_number": 1
    },
    {
     "cell_type": "code",
     "collapsed": false,
     "input": [
      "# First we have a series of estimates use in proving that the DTRW scheme is stable in the sense of von Neumann\n",
      "\n",
      "alpha = 0.75\n",
      "N = 500\n",
      "d = DTRW_subdiffusive([0.,0.], N, alpha)\n",
      "V = 0.5\n",
      "\n",
      "eps = np.zeros(N)\n",
      "eps_bnd = np.zeros(N)\n",
      "hopeful_K_telescope_bound = np.zeros(N)\n",
      "\n",
      "real_eps_bnd = np.array([ alpha / pow(float(i), 1.-alpha) for i in range(1,N+1)])\n",
      "better_real_eps_bnd = np.array([ alpha / pow(float(i), alpha) for i in range(1,N+1)])\n",
      "K_eps_bnd = np.array([ d.K[:i].sum() for i in range(2,N+1)])\n",
      "#eps_inv_bnd = np.array([ 1. / (1. - alpha / pow(float(i), 1.-alpha)) for i in range(1,N+1)])\n",
      "eps_inv_bnd = 1. / (1. - V * K_eps_bnd)\n",
      "eps_inv_bnd = 1. / (1. - V * better_real_eps_bnd) \n",
      "div_bnd = np.array([ pow(float(i+1)/float(i), 1.-alpha) for i in range(1,N+1)])\n",
      "\n",
      "eps[0] = alpha\n",
      "\n",
      "#plt.plot(eps_bnd)\n",
      "#plt.plot(div_bnd)\n",
      "#plt.plot(div_bnd * div_bnd)\n",
      "#plt.show()\n",
      "\n",
      "# For n = 6 (i.e we are calculating eps[6] = \\eps_{7})\n",
      "# \n",
      "#   i    eps  K    eps_prod         eps_inv_bnd bnd_prod    K_eps_bnd   K_inv_prod\n",
      "# [ 0    1    0                     1         nil           1           nil (=1.0)\n",
      "#   1    2    1    nil              2         6             1+2         5 (=1+2+3+4+5+6)\n",
      "#   2    3    2    6                3         6*5           1+2+3       5*4 (=1+2+3+4+5+6 * 1+2+3+4+5)\n",
      "#   3    4    3    6*5              4         6*5*4         1+2+3+4     5*4*3\n",
      "#   4    5    4    6*5*4            5         6*5*4*3       1+2+3+4+5\n",
      "#   5    6    5    6*5*4*3          6         6*5*4*3*2     1+2+3+4+5+6\n",
      "#   6    -    6    6*5*4*3*2        7         6*5*4*3*2*1   1+2+3+4+5+6+7\n",
      "#   7    -    7    6*5*4*3*2*1      8         -\n",
      "\n",
      "#print 'eps_inv_bnd', eps_inv_bnd\n",
      "\n",
      "for n in range(1,N):\n",
      "    \n",
      "    eps_inv = 1. / (1. - V * eps)\n",
      "    \n",
      "    # n means we're calculating eps_{n+1}, that is eps[n] = eps_{n+1}\n",
      "    # also eps_prod[n] = 1 / (1-eps_{1})...(1-eps_{n})\n",
      "    eps_inv_prod = np.array([eps_inv[n-i:n].prod() for i in range(n+1)])\n",
      "    eps[n] = (eps_inv_prod * d.K[1:n+2]).sum()\n",
      "    \n",
      "    eps_inv_bnd_prod = np.array([eps_inv_bnd[n-i:n].prod() for i in range(n+1)])\n",
      "    eps_bnd[n] = (eps_inv_bnd_prod * d.K[1:n+2]).sum()\n",
      "    \n",
      "    # TODO: CHECK THIS ONE OUT!\n",
      "    hopeful_K_telescope_bound[n] = np.array([d.K[i+1] * pow(float(n)/float(n-i), 1.-alpha) for i in range(n)]).sum()\n",
      "        \n",
      "    #ratio_bnd = np.array([pow(float(n) / float(n-i), 1. - alpha) for i in range(n+1)])\n",
      "\n",
      "    #print 'eps_inv_bnd_prod', eps_inv_bnd_prod \n",
      "    #print 'K[1:n+2]', d.K[1:n+2]\n",
      "    #print 'eps_bnd[n]', eps_bnd[n]\n",
      "    \n",
      "    #print 'eps', eps[n], '\\t bnd', eps_bnd[n], \"\\t hope\", hopeful_K_telescope_bound[n]    \n",
      "    \n",
      "    #print eps_bnd[:n-1], bnd_prod, d.K[1:n+1]\n",
      "    #print (bnd_prod * d.K[1:n+1]).sum(), '\\t', (div * d.K[1:n+1]).sum()\n",
      "    \n",
      "print 'eps', eps[:10]    \n",
      "print 'eps_inv', eps_inv[:10]\n",
      "print 'eps_inv_bnd', eps_inv_bnd[:10]\n",
      "print 'K_eps_bnd', K_eps_bnd[:10]\n",
      "print 'K_eps_bnd_inv', 1./(1.-K_eps_bnd[:10])\n",
      "print 'eps_bnd_K_sum', eps_bnd[:10]\n",
      "    \n",
      "plt.plot(eps)\n",
      "#plt.plot(hopeful_K_telescope_bound,'^')\n",
      "#plt.plot(eps_bnd, '^')\n",
      "#plt.plot(real_eps_bnd,'x')\n",
      "#plt.plot(better_real_eps_bnd,'o')\n",
      "#plt.plot(K_eps_bnd, 'v')\n",
      "\n",
      "plt.show()"
     ],
     "language": "python",
     "metadata": {},
     "outputs": [
      {
       "output_type": "stream",
       "stream": "stdout",
       "text": [
        "eps [ 0.75        0.6         0.49107143  0.40828402  0.34433086  0.29441482\n",
        "  0.25505492  0.22366789  0.19833545  0.17763596]\n",
        "eps_inv [ 1.6         1.42857143  1.32544379  1.25650558  1.20797081  1.17261807\n",
        "  1.14616788  1.12591558  1.11008456  1.09747556]\n",
        "eps_inv_bnd [ 1.6         1.28696209  1.19690134  1.15284742  1.12631785  1.10842354\n",
        "  1.09545587  1.08558071  1.07778223  1.07145017]\n",
        "K_eps_bnd [ 0.75        0.65625     0.6015625   0.56396484  0.5357666   0.51344299\n",
        "  0.49510574  0.47963369  0.46631053  0.45465277]\n",
        "K_eps_bnd_inv [ 4.          2.90909091  2.50980392  2.29339306  2.15408888  2.05525763\n",
        "  1.98061275  1.92172318  1.8737488   1.8336941 ]\n",
        "eps_bnd_K_sum [ 0.          0.6         0.51673812  0.46088902  0.41957464  0.38712537\n",
        "  0.36058646  0.33823896  0.31900195  0.30215508]\n"
       ]
      }
     ],
     "prompt_number": 43
    },
    {
     "cell_type": "code",
     "collapsed": false,
     "input": [
      "# Now we look at stability tests: is it really r < 1/2 that makes everything tick?\n",
      "\n",
      "alpha = 0.5\n",
      "N = 100\n",
      "L = 40\n",
      "X_init = np.zeros(L)\n",
      "X_init[L/2] = float(L)\n",
      "\n",
      "omega = 0.5\n",
      "r = 1.\n",
      "\n",
      "dif = DTRW_diffusive(X_init, N, omega, r=r)\n",
      "sub = DTRW_subdiffusive(X_init, N, alpha, r=r)\n",
      "\n",
      "dif.solve_all_steps()\n",
      "sub.solve_all_steps()\n",
      "\n",
      "# Lets look at the first few solutions to see if there's the characteristic oscillations...\n",
      "print sub.Xs[0][:,:,0]\n",
      "print sub.Xs[0][:,:,1]\n",
      "print sub.Xs[0][:,:,2]\n",
      "print sub.Xs[0][:,:,3]\n",
      "print sub.Xs[0][:,:,4]\n"
     ],
     "language": "python",
     "metadata": {},
     "outputs": [
      {
       "output_type": "stream",
       "stream": "stdout",
       "text": [
        "[[  0.   0.   0.   0.   0.   0.   0.   0.   0.   0.   0.   0.   0.   0.\n",
        "    0.   0.   0.   0.   0.   0.  40.   0.   0.   0.   0.   0.   0.   0.\n",
        "    0.   0.   0.   0.   0.   0.   0.   0.   0.   0.   0.   0.]]\n",
        "[[  0.   0.   0.   0.   0.   0.   0.   0.   0.   0.   0.   0.   0.   0.\n",
        "    0.   0.   0.   0.   0.  10.  20.  10.   0.   0.   0.   0.   0.   0.\n",
        "    0.   0.   0.   0.   0.   0.   0.   0.   0.   0.   0.   0.]]\n",
        "[[  0.    0.    0.    0.    0.    0.    0.    0.    0.    0.    0.    0.\n",
        "    0.    0.    0.    0.    0.    0.    2.5   7.5  20.    7.5   2.5   0.\n",
        "    0.    0.    0.    0.    0.    0.    0.    0.    0.    0.    0.    0.\n",
        "    0.    0.    0.    0. ]]\n",
        "[[  0.      0.      0.      0.      0.      0.      0.      0.      0.      0.\n",
        "    0.      0.      0.      0.      0.      0.      0.      0.625   2.5\n",
        "    8.125  17.5     8.125   2.5     0.625   0.      0.      0.      0.      0.\n",
        "    0.      0.      0.      0.      0.      0.      0.      0.      0.      0.\n",
        "    0.   ]]\n",
        "[[  0.        0.        0.        0.        0.        0.        0.        0.\n",
        "    0.        0.        0.        0.        0.        0.        0.        0.\n",
        "    0.15625   0.78125   2.96875   7.8125   16.5625    7.8125    2.96875\n",
        "    0.78125   0.15625   0.        0.        0.        0.        0.        0.\n",
        "    0.        0.        0.        0.        0.        0.        0.        0.\n",
        "    0.     ]]\n"
       ]
      }
     ],
     "prompt_number": 7
    },
    {
     "cell_type": "code",
     "collapsed": false,
     "input": [
      "alpha = 0.75\n",
      "N = 50\n",
      "d = DTRW_subdiffusive([0.,0.], N, alpha)\n",
      "\n",
      "b = [(1.-alpha) / pow(i, alpha) for i in range(1,N+1)]\n",
      "b2 = [alpha / pow(i, alpha) for i in range(1,N+1)]\n",
      "b = [(1.-alpha) / pow(i, 1.-alpha) for i in range(1,N+1)]\n",
      "b2 = [alpha / pow(i, 1.-alpha) for i in range(1,N+1)]\n",
      "\n",
      "plt.plot(-d.K)\n",
      "plt.plot(b)\n",
      "plt.plot(b2)\n",
      "plt.show()"
     ],
     "language": "python",
     "metadata": {},
     "outputs": [],
     "prompt_number": 8
    },
    {
     "cell_type": "code",
     "collapsed": false,
     "input": [
      "# Double checking the convergence of that ratio thing.\n",
      "\n",
      "N=100\n",
      "xi = np.zeros(N)\n",
      "V = 4.0\n",
      "\n",
      "xi[0] = 1. - V * alpha\n",
      "\n",
      "\n",
      "for n in range(1,N):\n",
      "    \n",
      "    xi_tel_prod = np.array([ 1. / xi[n-i:n].prod() for i in range(n+1) ])\n",
      "        \n",
      "    xi[n] = 1. - V * (xi_tel_prod * d.K[1:n+2]).sum()\n",
      "       \n",
      "    \n",
      "plt.plot(xi)\n",
      "plt.show()\n",
      "\n",
      "# This calculation is based on the Z-transform - should get the following  \n",
      "print 'According to z-transform, we should get V->',  -1. / (pow(1.-1./xi[-1], -alpha) - 1. ), 'actual V =', V\n",
      "\n"
     ],
     "language": "python",
     "metadata": {},
     "outputs": [
      {
       "output_type": "stream",
       "stream": "stdout",
       "text": [
        "According to z-transform, we should get V-> 4.0 actual V = 4.0\n"
       ]
      },
      {
       "metadata": {},
       "output_type": "pyout",
       "prompt_number": 47,
       "text": [
        "(-0.3465216812699272, ', xi[-1] =', -2.1389311878405253)"
       ]
      }
     ],
     "prompt_number": 47
    },
    {
     "cell_type": "code",
     "collapsed": false,
     "input": [
      "# Plotting the relationship between fixed xi and V...\n",
      "alpha = 0.7\n",
      "xi = np.arange(-2., 2., 0.005) \n",
      "\n",
      "# From the paper we get the following relationship:\n",
      "V = 1. / (1.-pow(1.-1./xi, -alpha))\n",
      "\n",
      "plt.plot(xi, V)\n",
      "plt.show()\n",
      "\n",
      "print alpha\n",
      "print 1. / (1 - pow(2., -alpha))"
     ],
     "language": "python",
     "metadata": {},
     "outputs": []
    },
    {
     "cell_type": "code",
     "collapsed": false,
     "input": [
      "alpha = 0.75\n",
      "N = 500\n",
      "L = 100\n",
      "X_init = np.zeros(L)\n",
      "X_init[L/2] = float(L)\n",
      "xs = np.arange(0., 1., 1./float(L))\n",
      "\n",
      "dtrw = DTRW_subdiffusive_with_death(X_init, N, alpha, 0.9, r = 0.1)\n",
      "dtrw.solve_all_steps()"
     ],
     "language": "python",
     "metadata": {},
     "outputs": [],
     "prompt_number": 12
    },
    {
     "cell_type": "code",
     "collapsed": false,
     "input": [
      "print xs.shape\n",
      "print dtrw.Xs[0].shape\n",
      "plt.plot(xs, dtrw.Xs[0][0,:,100])\n",
      "plt.show()"
     ],
     "language": "python",
     "metadata": {},
     "outputs": [
      {
       "output_type": "stream",
       "stream": "stdout",
       "text": [
        "(100,)\n",
        "(1, 100, 500)\n"
       ]
      }
     ],
     "prompt_number": 13
    },
    {
     "cell_type": "code",
     "collapsed": false,
     "input": [
      "n=4\n",
      "print dtrw.Xs[0][:,:,n].sum()\n",
      "print np.exp(-0.9*n)*100."
     ],
     "language": "python",
     "metadata": {},
     "outputs": [
      {
       "output_type": "stream",
       "stream": "stdout",
       "text": [
        "2.73237224473\n",
        "2.73237224473\n"
       ]
      }
     ],
     "prompt_number": 16
    },
    {
     "cell_type": "code",
     "collapsed": false,
     "input": [
      "t = X_init > 1.\n",
      "t.sum() == True"
     ],
     "language": "python",
     "metadata": {},
     "outputs": [
      {
       "metadata": {},
       "output_type": "pyout",
       "prompt_number": 33,
       "text": [
        "True"
       ]
      }
     ],
     "prompt_number": 33
    },
    {
     "cell_type": "code",
     "collapsed": false,
     "input": [
      "\n",
      "alpha = 0.75\n",
      "N = 500\n",
      "d = DTRW_subdiffusive([0.,0.], N, alpha)\n",
      "V = 0.5\n",
      "\n",
      "K = np.zeros(N)\n",
      "K[0] = 0\n",
      "K[1] = alpha\n",
      "\n",
      "for n in range(2,N):\n",
      "    K[n] = alpha * (alpha-1) / (n * (n-1))\n",
      "    for k in range(n-2):\n",
      "        K[n] *= (1.0 + alpha / float(k+1))\n",
      "\n",
      "print d.K[:10]\n",
      "print K[:10]"
     ],
     "language": "python",
     "metadata": {},
     "outputs": [
      {
       "output_type": "stream",
       "stream": "stdout",
       "text": [
        "[ 0.          0.75       -0.09375    -0.0546875  -0.03759766 -0.02819824\n",
        " -0.02232361 -0.01833725 -0.01547205 -0.01332316]\n",
        "[ 0.          0.75       -0.09375    -0.0546875  -0.03759766 -0.02819824\n",
        " -0.02232361 -0.01833725 -0.01547205 -0.01332316]\n"
       ]
      }
     ],
     "prompt_number": 4
    },
    {
     "cell_type": "code",
     "collapsed": false,
     "input": [],
     "language": "python",
     "metadata": {},
     "outputs": []
    }
   ],
   "metadata": {}
  }
 ]
}