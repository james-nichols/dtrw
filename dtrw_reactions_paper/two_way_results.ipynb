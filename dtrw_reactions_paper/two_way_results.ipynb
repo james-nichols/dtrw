{
 "metadata": {
  "name": "",
  "signature": "sha256:d0050539d48588d583ca478cf1edc6d73ca6ad736f049b4a28d05abcce7f5721"
 },
 "nbformat": 3,
 "nbformat_minor": 0,
 "worksheets": [
  {
   "cells": [
    {
     "cell_type": "code",
     "collapsed": false,
     "input": [
      "# Libraries are in parent directory\n",
      "import sys\n",
      "sys.path.append('../')\n",
      "\n",
      "from dtrw import *\n",
      "import numpy as np\n",
      "import matplotlib.pyplot as plt"
     ],
     "language": "python",
     "metadata": {},
     "outputs": [],
     "prompt_number": 1
    },
    {
     "cell_type": "code",
     "collapsed": false,
     "input": [
      "I_sol_21 = np.loadtxt(\"Solution_alpha0p8_k1_dx2ov21_T0p1.csv\", delimiter=\",\")\n",
      "I_sol_41 = np.loadtxt(\"Solution_alpha0p8_k1_dx2ov41_T0p1.csv\", delimiter=\",\")\n",
      "I_sol_61 = np.loadtxt(\"Solution_alpha0p8_k1_dx2ov61_T0p1.csv\", delimiter=\",\")\n",
      "I_sol_81 = np.loadtxt(\"Solution_alpha0p8_k1_dx2ov81_T0p1.csv\", delimiter=\",\")"
     ],
     "language": "python",
     "metadata": {},
     "outputs": [],
     "prompt_number": 3
    },
    {
     "cell_type": "code",
     "collapsed": false,
     "input": [
      "a_21 = np.loadtxt(\"a_DTRW_dT_0.001000_dX_0.095238_alpha_0.800000.csv\", delimiter=\",\")\n",
      "b_21 = np.loadtxt(\"b_DTRW_dT_0.001000_dX_0.095238_alpha_0.800000.csv\", delimiter=\",\")\n",
      "a_41 = np.loadtxt(\"a_DTRW_dT_0.000100_dX_0.048780_alpha_0.800000.csv\", delimiter=\",\")\n",
      "b_41 = np.loadtxt(\"b_DTRW_dT_0.000100_dX_0.048780_alpha_0.800000.csv\", delimiter=\",\")\n",
      "a_61 = np.loadtxt(\"a_DTRW_dT_0.000050_dX_0.032787_alpha_0.800000.csv\", delimiter=\",\")\n",
      "b_61 = np.loadtxt(\"b_DTRW_dT_0.000050_dX_0.032787_alpha_0.800000.csv\", delimiter=\",\")\n",
      "a_81 = np.loadtxt(\"a_DTRW_dT_0.000010_dX_0.024691_alpha_0.800000.csv\", delimiter=\",\")\n",
      "b_81 = np.loadtxt(\"b_DTRW_dT_0.000010_dX_0.024691_alpha_0.800000.csv\", delimiter=\",\")"
     ],
     "language": "python",
     "metadata": {},
     "outputs": [],
     "prompt_number": 4
    },
    {
     "cell_type": "code",
     "collapsed": false,
     "input": [
      "I_trev = np.loadtxt(\"trev_cable_eq_results/Soln_at_t01.dat\")\n",
      "\n",
      "a_10 = np.loadtxt(\"a_DTRW_dT_0.000010_dX_0.200000_alpha_0.500000.csv\", delimiter=\",\")\n",
      "b_10 = np.loadtxt(\"b_DTRW_dT_0.000010_dX_0.200000_alpha_0.500000.csv\", delimiter=\",\")\n",
      "a_20 = np.loadtxt(\"a_DTRW_dT_0.000010_dX_0.100000_alpha_0.500000.csv\", delimiter=\",\")\n",
      "b_20 = np.loadtxt(\"b_DTRW_dT_0.000010_dX_0.100000_alpha_0.500000.csv\", delimiter=\",\")\n",
      "a_40 = np.loadtxt(\"a_DTRW_dT_0.000001_dX_0.050000_alpha_0.500000.csv\", delimiter=\",\")\n",
      "b_40 = np.loadtxt(\"b_DTRW_dT_0.000001_dX_0.050000_alpha_0.500000.csv\", delimiter=\",\")\n",
      "    \n",
      "print a_10.shape, np.linspace(-1.,1.,11, endpoint=True).shape\n",
      "print a_20.shape, np.linspace(-1.,1.,21, endpoint=True).shape\n",
      "print a_40.shape, np.linspace(-1.,1.,41, endpoint=True).shape\n",
      "\n",
      "xs = np.arange(-1., 1.05, 0.05)\n",
      "plt.plot(xs, I_trev[:,1], label='Analytic soln')\n",
      "lin1 = plt.plot(np.linspace(-1.,1.,11, endpoint=True), (a_10+b_10), 'x', label='DTRW dX=1/5')\n",
      "lin1 = plt.plot(np.linspace(-1.,1.,11, endpoint=True), b_10, 'x', label='DTRW dX=1/5')\n",
      "lin2 = plt.plot(np.linspace(-1.,1.,21, endpoint=True), (a_20+b_20), 'v', label='DTRW dX=1/10')\n",
      "lin3 = plt.plot(np.linspace(-1.,1.,41, endpoint=True), (a_40+b_40), 'o', label='DTRW dX=1/20')\n",
      "plt.legend()\n",
      "plt.xlim([-1.,1.])\n",
      "plt.show()"
     ],
     "language": "python",
     "metadata": {},
     "outputs": [
      {
       "output_type": "stream",
       "stream": "stdout",
       "text": [
        "(11,) (11,)\n",
        "(21,) (21,)\n",
        "(41,) (41,)\n"
       ]
      }
     ],
     "prompt_number": 12
    },
    {
     "cell_type": "code",
     "collapsed": false,
     "input": [
      "I_trev = np.loadtxt(\"trev_cable_eq_results/Soln_at_t01.dat\")\n",
      "\n",
      "a_10 = np.loadtxt(\"a_DTRW_dT_0.000010_dX_0.200000_alpha_0.500000.csv\", delimiter=\",\")\n",
      "b_10 = np.loadtxt(\"b_DTRW_dT_0.000010_dX_0.200000_alpha_0.500000.csv\", delimiter=\",\")\n",
      "a_20 = np.loadtxt(\"a_DTRW_dT_0.000010_dX_0.100000_alpha_0.500000.csv\", delimiter=\",\")\n",
      "b_20 = np.loadtxt(\"b_DTRW_dT_0.000010_dX_0.100000_alpha_0.500000.csv\", delimiter=\",\")\n",
      "a_40 = np.loadtxt(\"a_DTRW_dT_0.000001_dX_0.050000_alpha_0.500000.csv\", delimiter=\",\")\n",
      "b_40 = np.loadtxt(\"b_DTRW_dT_0.000001_dX_0.050000_alpha_0.500000.csv\", delimiter=\",\")\n",
      "\n",
      "print a_40.shape\n"
     ],
     "language": "python",
     "metadata": {},
     "outputs": [
      {
       "output_type": "stream",
       "stream": "stdout",
       "text": [
        "(41,)\n"
       ]
      }
     ],
     "prompt_number": 9
    },
    {
     "cell_type": "code",
     "collapsed": false,
     "input": [
      "plt.plot(I_sol_21 * np.exp(-0.1))\n",
      "plt.plot((a_21+b_21)[:,-1])\n",
      "plt.plot(I_sol_41 * np.exp(-0.1))\n",
      "plt.plot((a_41+b_41)[:,-1])\n",
      "plt.plot(I_sol_61 * np.exp(-0.1))\n",
      "plt.plot((a_61+b_61)[:,-1])\n",
      "plt.plot(I_sol_81 * np.exp(-0.1))\n",
      "plt.plot((a_81+b_81)[:,-1])\n",
      "plt.show()"
     ],
     "language": "python",
     "metadata": {},
     "outputs": [],
     "prompt_number": 16
    },
    {
     "cell_type": "code",
     "collapsed": false,
     "input": [
      "print I_trev[:,1] / (a_41+b_41)[:,-1]"
     ],
     "language": "python",
     "metadata": {},
     "outputs": [
      {
       "output_type": "stream",
       "stream": "stdout",
       "text": [
        "[ 1.27761439  1.26483523  1.24363341  1.2155739   1.18259474  1.14672723\n",
        "  1.10986556  1.07362026  1.03925699  1.00770148  0.97958455  0.95530487\n",
        "  0.93509347  0.91907175  0.9072994   0.8998123   0.89665187  0.8978879\n",
        "  0.90363721  0.91408011  0.92947659  0.91408011  0.90363721  0.8978879\n",
        "  0.89665187  0.8998123   0.9072994   0.91907175  0.93509347  0.95530487\n",
        "  0.97958455  1.00770148  1.03925699  1.07362026  1.10986556  1.14672723\n",
        "  1.18259474  1.2155739   1.24363341  1.26483524  1.2776144 ]\n"
       ]
      }
     ],
     "prompt_number": 9
    },
    {
     "cell_type": "code",
     "collapsed": false,
     "input": [],
     "language": "python",
     "metadata": {},
     "outputs": []
    }
   ],
   "metadata": {}
  }
 ]
}